{
  "nbformat": 4,
  "nbformat_minor": 0,
  "metadata": {
    "colab": {
      "provenance": [],
      "authorship_tag": "ABX9TyNTMH8zmgo8E7+A/9hBWQhK",
      "include_colab_link": true
    },
    "kernelspec": {
      "name": "python3",
      "display_name": "Python 3"
    },
    "language_info": {
      "name": "python"
    }
  },
  "cells": [
    {
      "cell_type": "markdown",
      "metadata": {
        "id": "view-in-github",
        "colab_type": "text"
      },
      "source": [
        "<a href=\"https://colab.research.google.com/github/ClouDD22/tibame/blob/main/mytibame0618.ipynb\" target=\"_parent\"><img src=\"https://colab.research.google.com/assets/colab-badge.svg\" alt=\"Open In Colab\"/></a>"
      ]
    },
    {
      "cell_type": "markdown",
      "source": [
        "```\n",
        "標準python: .py\n",
        "基於python的工具庫(jupyter notebook): .ipynb\n",
        "jupyter notebook的文字: markdown語法\n",
        "```\n",
        "\n",
        "Latex Math\n",
        "$ a = \\pi \\frac{1}{2-\\gamma}$\n",
        "\n"
      ],
      "metadata": {
        "id": "Ffklju7Ytm2p"
      }
    },
    {
      "cell_type": "code",
      "source": [],
      "metadata": {
        "id": "F_nbKF7utoVK"
      },
      "execution_count": null,
      "outputs": []
    }
  ]
}